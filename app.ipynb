{
  "nbformat": 4,
  "nbformat_minor": 0,
  "metadata": {
    "colab": {
      "provenance": [],
      "authorship_tag": "ABX9TyMFlCkNu6cy1uABjYvcLyih",
      "include_colab_link": true
    },
    "kernelspec": {
      "name": "python3",
      "display_name": "Python 3"
    },
    "language_info": {
      "name": "python"
    }
  },
  "cells": [
    {
      "cell_type": "markdown",
      "metadata": {
        "id": "view-in-github",
        "colab_type": "text"
      },
      "source": [
        "<a href=\"https://colab.research.google.com/github/Pallavi566/Green-House-Gas-Emission-Prediction/blob/main/app.ipynb\" target=\"_parent\"><img src=\"https://colab.research.google.com/assets/colab-badge.svg\" alt=\"Open In Colab\"/></a>"
      ]
    },
    {
      "cell_type": "code",
      "source": [
        "import streamlit as st\n",
        "import joblib\n",
        "import numpy as np\n",
        "import pandas as pd\n",
        "from utils.preprocessor import preprocess_input\n",
        "\n",
        "# Load model and scaler\n",
        "model = joblib.load('models/LR_model.pkl')\n",
        "\n",
        "scaler = joblib.load('models/scaler.pkl')\n",
        "\n",
        "st.title(\"Supply Chain Emissions Prediction\")\n",
        "\n",
        "st.markdown(\"\"\"\n",
        "This app predicts **Supply Chain Emission Factors with Margins** based on DQ metrics and other parameters.\n",
        "\"\"\")\n",
        "\n",
        "# Input form\n",
        "with st.form(\"prediction_form\"):\n",
        "    substance = st.selectbox(\"Substance\", ['carbon dioxide', 'methane', 'nitrous oxide', 'other GHGs'])\n",
        "    unit = st.selectbox(\"Unit\", ['kg/2018 USD, purchaser price', 'kg CO2e/2018 USD, purchaser price'])\n",
        "    source = st.selectbox(\"Source\", ['Commodity', 'Industry'])\n",
        "    supply_wo_margin = st.number_input(\"Supply Chain Emission Factors without Margins\", min_value=0.0)\n",
        "    margin = st.number_input(\"Margins of Supply Chain Emission Factors\", min_value=0.0)\n",
        "    dq_reliability = st.slider(\"DQ Reliability\", 0.0, 1.0)\n",
        "    dq_temporal = st.slider(\"DQ Temporal Correlation\", 0.0, 1.0)\n",
        "    dq_geo = st.slider(\"DQ Geographical Correlation\", 0.0, 1.0)\n",
        "    dq_tech = st.slider(\"DQ Technological Correlation\", 0.0, 1.0)\n",
        "    dq_data = st.slider(\"DQ Data Collection\", 0.0, 1.0)\n",
        "    # year = st.selectbox(\"Year\", list(range(2010, 2017)))\n",
        "\n",
        "    submit = st.form_submit_button(\"Predict\")\n",
        "\n",
        "if submit:\n",
        "    input_data = {\n",
        "        'Substance': substance,\n",
        "        'Unit': unit,\n",
        "        'Supply Chain Emission Factors without Margins': supply_wo_margin,\n",
        "        'Margins of Supply Chain Emission Factors': margin,\n",
        "        'DQ ReliabilityScore of Factors without Margins': dq_reliability,\n",
        "        'DQ TemporalCorrelation of Factors without Margins': dq_temporal,\n",
        "        'DQ GeographicalCorrelation of Factors without Margins': dq_geo,\n",
        "        'DQ TechnologicalCorrelation of Factors without Margins': dq_tech,\n",
        "        'DQ DataCollection of Factors without Margins': dq_data,\n",
        "        'Source': source,\n",
        "        # 'Year': year\n",
        "    }\n",
        "\n",
        "    input_df = preprocess_input(pd.DataFrame([input_data]))\n",
        "    input_scaled = scaler.transform(input_df)\n",
        "    prediction = model.predict(input_scaled)\n",
        "\n",
        "    st.success(f\"Predicted Supply Chain Emission Factor with Margin: **{prediction[0]:.4f}**\")"
      ],
      "metadata": {
        "id": "gJfxL0Hnw8Bg"
      },
      "execution_count": null,
      "outputs": []
    }
  ]
}